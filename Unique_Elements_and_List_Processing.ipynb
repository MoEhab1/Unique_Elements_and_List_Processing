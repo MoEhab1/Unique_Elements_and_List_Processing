{
 "cells": [
  {
   "cell_type": "code",
   "execution_count": 38,
   "id": "9eaf6dd2-52ea-4919-a16a-b44adc53c57e",
   "metadata": {},
   "outputs": [
    {
     "name": "stdin",
     "output_type": "stream",
     "text": [
      " 1223445\n"
     ]
    },
    {
     "name": "stdout",
     "output_type": "stream",
     "text": [
      "(unique elements):  {1, 2, 3, 4, 5}\n",
      "(squares of even numbers): [4, 16]\n"
     ]
    }
   ],
   "source": [
    "nums = input()\n",
    "\n",
    "numList = set()\n",
    "for i in nums:\n",
    "    if i not in numList:\n",
    "        numList.add(int(i))\n",
    "print(\"(unique elements): \", numList)\n",
    "\n",
    "SqEv = []\n",
    "for i in numList:\n",
    "    if i %2 == 0:\n",
    "        SqEv.append(i*i)\n",
    "print(\"(squares of even numbers):\", SqEv)"
   ]
  },
  {
   "cell_type": "code",
   "execution_count": null,
   "id": "a98c1fa6-6544-45d0-b9fb-f115516a8a32",
   "metadata": {},
   "outputs": [],
   "source": []
  }
 ],
 "metadata": {
  "kernelspec": {
   "display_name": "Python 3 (ipykernel)",
   "language": "python",
   "name": "python3"
  },
  "language_info": {
   "codemirror_mode": {
    "name": "ipython",
    "version": 3
   },
   "file_extension": ".py",
   "mimetype": "text/x-python",
   "name": "python",
   "nbconvert_exporter": "python",
   "pygments_lexer": "ipython3",
   "version": "3.11.7"
  }
 },
 "nbformat": 4,
 "nbformat_minor": 5
}
